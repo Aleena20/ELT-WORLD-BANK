{
 "cells": [
  {
   "cell_type": "code",
   "execution_count": 4,
   "id": "0d9e0134-35f4-4eda-99c7-e4c1c5ac33ca",
   "metadata": {},
   "outputs": [],
   "source": [
    "AZURE_SQL_CONNECTION = \"mssql+pyodbc://CloudSA648a5ceb:Urno9@$$@elt-world-bank.database.windows.net:1433/ELT?driver=ODBC+Driver+17+for+SQL+Server\"\n"
   ]
  },
  {
   "cell_type": "code",
   "execution_count": 5,
   "id": "16465cd6-e4d2-4e6e-a085-82a0182d0b4a",
   "metadata": {},
   "outputs": [
    {
     "name": "stdout",
     "output_type": "stream",
     "text": [
      "✅ Connection successful!\n"
     ]
    }
   ],
   "source": [
    "import pyodbc\n",
    "\n",
    "conn_str = (\n",
    "    \"DRIVER={ODBC Driver 17 for SQL Server};\"\n",
    "    \"SERVER=elt-world-bank.database.windows.net,1433;\"\n",
    "    \"DATABASE=ELT;\"\n",
    "    \"UID=CloudSA648a5ceb;\"\n",
    "    \"PWD=Urno9@$$;\"\n",
    ")\n",
    "\n",
    "try:\n",
    "    conn = pyodbc.connect(conn_str)\n",
    "    print(\"✅ Connection successful!\")\n",
    "except Exception as e:\n",
    "    print(\"❌ Connection failed:\")\n",
    "    print(e)\n"
   ]
  }
 ],
 "metadata": {
  "kernelspec": {
   "display_name": "Python [conda env:base] *",
   "language": "python",
   "name": "conda-base-py"
  },
  "language_info": {
   "codemirror_mode": {
    "name": "ipython",
    "version": 3
   },
   "file_extension": ".py",
   "mimetype": "text/x-python",
   "name": "python",
   "nbconvert_exporter": "python",
   "pygments_lexer": "ipython3",
   "version": "3.12.7"
  }
 },
 "nbformat": 4,
 "nbformat_minor": 5
}
