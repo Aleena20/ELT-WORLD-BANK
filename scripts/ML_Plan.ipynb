{
 "cells": [
  {
   "cell_type": "code",
   "execution_count": 19,
   "id": "e00e9e14-28fb-4de7-ae52-0822acc948b1",
   "metadata": {},
   "outputs": [
    {
     "name": "stdout",
     "output_type": "stream",
     "text": [
      "['Country Name', 'Country Code', 'Indicator Name', 'Indicator Code', '1960', '1961', '1962', '1963', '1964', '1965', '1966', '1967', '1968', '1969', '1970', '1971', '1972', '1973', '1974', '1975', '1976', '1977', '1978', '1979', '1980', '1981', '1982', '1983', '1984', '1985', '1986', '1987', '1988', '1989', '1990', '1991', '1992', '1993', '1994', '1995', '1996', '1997', '1998', '1999', '2000', '2001', '2002', '2003', '2004', '2005', '2006', '2007', '2008', '2009', '2010', '2011', '2012', '2013', '2014', '2015', '2016', '2017', '2018', '2019', '2020', '2021', '2022', '2023', '2024', 'Unnamed: 69']\n"
     ]
    }
   ],
   "source": [
    "print(df.columns.tolist())\n"
   ]
  },
  {
   "cell_type": "code",
   "execution_count": 20,
   "id": "b09b11d9-9c16-405f-8e21-f28d33cddaad",
   "metadata": {},
   "outputs": [],
   "source": [
    "# Filter for Germany and the right indicator\n",
    "df_germany = df[\n",
    "    (df[\"Country Name\"] == \"Germany\") &\n",
    "    (df[\"Indicator Name\"].str.contains(\"Debt\", case=False))\n",
    "].copy()\n"
   ]
  },
  {
   "cell_type": "code",
   "execution_count": 21,
   "id": "d4261900-53e1-4e5f-8a3c-444ef9b4dd52",
   "metadata": {},
   "outputs": [],
   "source": [
    "# Convert year columns into rows\n",
    "df_germany_melted = df_germany.melt(\n",
    "    id_vars=[\"Country Name\", \"Indicator Name\"],\n",
    "    value_vars=[str(year) for year in range(1990, 2025)],\n",
    "    var_name=\"Year\",\n",
    "    value_name=\"DebtPercentGDP\"\n",
    ")\n"
   ]
  },
  {
   "cell_type": "code",
   "execution_count": 22,
   "id": "3e577ee0-157f-468b-9675-3d84d37c2930",
   "metadata": {},
   "outputs": [],
   "source": [
    "# Clean the data\n",
    "df_germany_melted.dropna(subset=[\"DebtPercentGDP\"], inplace=True)\n",
    "df_germany_melted[\"Year\"] = df_germany_melted[\"Year\"].astype(int)\n",
    "df_germany_melted[\"DebtPercentGDP\"] = pd.to_numeric(df_germany_melted[\"DebtPercentGDP\"], errors=\"coerce\")\n"
   ]
  },
  {
   "cell_type": "code",
   "execution_count": 23,
   "id": "98cf3074-4da1-4e08-b13a-e4559ada6873",
   "metadata": {},
   "outputs": [],
   "source": [
    "from sklearn.linear_model import LinearRegression\n",
    "import numpy as np\n",
    "\n",
    "# Prepare features and labels\n",
    "X = df_germany_melted[\"Year\"].values.reshape(-1, 1)\n",
    "y = df_germany_melted[\"DebtPercentGDP\"].values\n",
    "\n",
    "model = LinearRegression()\n",
    "model.fit(X, y)\n",
    "\n",
    "# Forecast next 5 years\n",
    "future_years = np.array(range(2024, 2029)).reshape(-1, 1)\n",
    "predictions = model.predict(future_years)\n",
    "\n",
    "forecast_df = pd.DataFrame({\n",
    "    \"Country\": \"Germany\",\n",
    "    \"Year\": future_years.flatten(),\n",
    "    \"PredictedDebtPercentGDP\": predictions\n",
    "})\n"
   ]
  },
  {
   "cell_type": "code",
   "execution_count": 24,
   "id": "2fae521e-150b-459c-9e11-cc12a10ec599",
   "metadata": {},
   "outputs": [],
   "source": [
    "# Save to CSV\n",
    "forecast_df.to_csv(\"forecast_debt_germany.csv\", index=False)\n"
   ]
  },
  {
   "cell_type": "code",
   "execution_count": 25,
   "id": "83fe40bd-4923-480b-926e-2872bd0d0be5",
   "metadata": {},
   "outputs": [],
   "source": [
    "actual_df = df_germany_melted[[\"Year\", \"DebtPercentGDP\"]].copy()\n",
    "actual_df.rename(columns={\"DebtPercentGDP\": \"Value\"}, inplace=True)\n",
    "actual_df[\"Type\"] = \"Actual\"\n"
   ]
  },
  {
   "cell_type": "code",
   "execution_count": 16,
   "id": "5650f8d7-f593-45d8-9cf4-c1e7fbea2978",
   "metadata": {},
   "outputs": [],
   "source": [
    "forecast_df.rename(columns={\"PredictedDebtPercentGDP\": \"Value\"}, inplace=True)\n",
    "forecast_df[\"Type\"] = \"Forecast\"\n"
   ]
  },
  {
   "cell_type": "code",
   "execution_count": 17,
   "id": "6a870f41-91a2-432e-8ffa-ced3c8ac420c",
   "metadata": {},
   "outputs": [],
   "source": [
    "combined_df = pd.concat([actual_df, forecast_df], ignore_index=True)\n",
    "combined_df.to_csv(\"actual_vs_forecast_debt.csv\", index=False)\n"
   ]
  },
  {
   "cell_type": "code",
   "execution_count": null,
   "id": "cbfe0c1e-2f2f-4628-a3c1-805ce15559a3",
   "metadata": {},
   "outputs": [],
   "source": []
  }
 ],
 "metadata": {
  "kernelspec": {
   "display_name": "Python [conda env:base] *",
   "language": "python",
   "name": "conda-base-py"
  },
  "language_info": {
   "codemirror_mode": {
    "name": "ipython",
    "version": 3
   },
   "file_extension": ".py",
   "mimetype": "text/x-python",
   "name": "python",
   "nbconvert_exporter": "python",
   "pygments_lexer": "ipython3",
   "version": "3.12.7"
  }
 },
 "nbformat": 4,
 "nbformat_minor": 5
}
