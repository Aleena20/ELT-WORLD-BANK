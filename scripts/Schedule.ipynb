{
 "cells": [
  {
   "cell_type": "code",
   "execution_count": 1,
   "id": "bc169960-59c4-4252-a96e-34d32d31e6a4",
   "metadata": {
    "scrolled": true
   },
   "outputs": [
    {
     "name": "stdout",
     "output_type": "stream",
     "text": [
      "Collecting wbdata\n",
      "  Downloading wbdata-1.0.0-py3-none-any.whl.metadata (2.6 kB)\n",
      "Requirement already satisfied: pandas in c:\\users\\aleen\\anaconda3\\lib\\site-packages (2.2.2)\n",
      "Requirement already satisfied: sqlalchemy in c:\\users\\aleen\\anaconda3\\lib\\site-packages (2.0.34)\n",
      "Requirement already satisfied: pyodbc in c:\\users\\aleen\\anaconda3\\lib\\site-packages (5.1.0)\n",
      "Requirement already satisfied: appdirs<2.0,>=1.4 in c:\\users\\aleen\\anaconda3\\lib\\site-packages (from wbdata) (1.4.4)\n",
      "Collecting backoff<3.0.0,>=2.2.1 (from wbdata)\n",
      "  Downloading backoff-2.2.1-py3-none-any.whl.metadata (14 kB)\n",
      "Requirement already satisfied: cachetools<6.0.0,>=5.3.2 in c:\\users\\aleen\\anaconda3\\lib\\site-packages (from wbdata) (5.3.3)\n",
      "Collecting dateparser<2.0.0,>=1.2.0 (from wbdata)\n",
      "  Downloading dateparser-1.2.1-py3-none-any.whl.metadata (29 kB)\n",
      "Requirement already satisfied: decorator<6.0.0,>=5.1.1 in c:\\users\\aleen\\anaconda3\\lib\\site-packages (from wbdata) (5.1.1)\n",
      "Requirement already satisfied: requests<3.0,>=2.0 in c:\\users\\aleen\\anaconda3\\lib\\site-packages (from wbdata) (2.32.3)\n",
      "Collecting shelved-cache<0.4.0,>=0.3.1 (from wbdata)\n",
      "  Downloading shelved_cache-0.3.1-py3-none-any.whl.metadata (4.7 kB)\n",
      "Collecting tabulate<0.9.0,>=0.8.5 (from wbdata)\n",
      "  Downloading tabulate-0.8.10-py3-none-any.whl.metadata (25 kB)\n",
      "Requirement already satisfied: numpy>=1.26.0 in c:\\users\\aleen\\anaconda3\\lib\\site-packages (from pandas) (1.26.4)\n",
      "Requirement already satisfied: python-dateutil>=2.8.2 in c:\\users\\aleen\\anaconda3\\lib\\site-packages (from pandas) (2.9.0.post0)\n",
      "Requirement already satisfied: pytz>=2020.1 in c:\\users\\aleen\\anaconda3\\lib\\site-packages (from pandas) (2024.1)\n",
      "Requirement already satisfied: tzdata>=2022.7 in c:\\users\\aleen\\anaconda3\\lib\\site-packages (from pandas) (2023.3)\n",
      "Requirement already satisfied: typing-extensions>=4.6.0 in c:\\users\\aleen\\anaconda3\\lib\\site-packages (from sqlalchemy) (4.11.0)\n",
      "Requirement already satisfied: greenlet!=0.4.17 in c:\\users\\aleen\\anaconda3\\lib\\site-packages (from sqlalchemy) (3.0.1)\n",
      "Collecting pytz>=2020.1 (from pandas)\n",
      "  Downloading pytz-2025.2-py2.py3-none-any.whl.metadata (22 kB)\n",
      "Requirement already satisfied: regex!=2019.02.19,!=2021.8.27,>=2015.06.24 in c:\\users\\aleen\\anaconda3\\lib\\site-packages (from dateparser<2.0.0,>=1.2.0->wbdata) (2024.9.11)\n",
      "Collecting tzlocal>=0.2 (from dateparser<2.0.0,>=1.2.0->wbdata)\n",
      "  Downloading tzlocal-5.3.1-py3-none-any.whl.metadata (7.6 kB)\n",
      "Requirement already satisfied: six>=1.5 in c:\\users\\aleen\\anaconda3\\lib\\site-packages (from python-dateutil>=2.8.2->pandas) (1.16.0)\n",
      "Requirement already satisfied: charset-normalizer<4,>=2 in c:\\users\\aleen\\anaconda3\\lib\\site-packages (from requests<3.0,>=2.0->wbdata) (3.3.2)\n",
      "Requirement already satisfied: idna<4,>=2.5 in c:\\users\\aleen\\anaconda3\\lib\\site-packages (from requests<3.0,>=2.0->wbdata) (3.7)\n",
      "Requirement already satisfied: urllib3<3,>=1.21.1 in c:\\users\\aleen\\anaconda3\\lib\\site-packages (from requests<3.0,>=2.0->wbdata) (2.2.3)\n",
      "Requirement already satisfied: certifi>=2017.4.17 in c:\\users\\aleen\\anaconda3\\lib\\site-packages (from requests<3.0,>=2.0->wbdata) (2025.4.26)\n",
      "Downloading wbdata-1.0.0-py3-none-any.whl (18 kB)\n",
      "Downloading backoff-2.2.1-py3-none-any.whl (15 kB)\n",
      "Downloading dateparser-1.2.1-py3-none-any.whl (295 kB)\n",
      "Downloading pytz-2025.2-py2.py3-none-any.whl (509 kB)\n",
      "Downloading shelved_cache-0.3.1-py3-none-any.whl (7.8 kB)\n",
      "Downloading tabulate-0.8.10-py3-none-any.whl (29 kB)\n",
      "Downloading tzlocal-5.3.1-py3-none-any.whl (18 kB)\n",
      "Installing collected packages: pytz, tzlocal, tabulate, shelved-cache, backoff, dateparser, wbdata\n",
      "  Attempting uninstall: pytz\n",
      "    Found existing installation: pytz 2024.1\n",
      "    Uninstalling pytz-2024.1:\n",
      "      Successfully uninstalled pytz-2024.1\n",
      "  Attempting uninstall: tabulate\n",
      "    Found existing installation: tabulate 0.9.0\n",
      "    Uninstalling tabulate-0.9.0:\n",
      "      Successfully uninstalled tabulate-0.9.0\n",
      "Successfully installed backoff-2.2.1 dateparser-1.2.1 pytz-2025.2 shelved-cache-0.3.1 tabulate-0.8.10 tzlocal-5.3.1 wbdata-1.0.0\n",
      "Note: you may need to restart the kernel to use updated packages.\n"
     ]
    }
   ],
   "source": [
    "pip install wbdata pandas sqlalchemy pyodbc\n"
   ]
  },
  {
   "cell_type": "code",
   "execution_count": 2,
   "id": "4445e98e-7854-4e6a-9e56-7f7dfd08873d",
   "metadata": {},
   "outputs": [],
   "source": [
    "import logging\n",
    "from datetime import datetime\n",
    "\n",
    "# Configure logging\n",
    "log_filename = f\"elt_log_{datetime.now().strftime('%Y%m%d_%H%M%S')}.log\"\n",
    "logging.basicConfig(filename=log_filename,\n",
    "                    level=logging.INFO,\n",
    "                    format='%(asctime)s - %(levelname)s - %(message)s')\n",
    "\n",
    "logging.info(\"ELT script started\")\n"
   ]
  },
  {
   "cell_type": "code",
   "execution_count": 8,
   "id": "a62568a9-60eb-4e67-aef0-40cf2879194e",
   "metadata": {},
   "outputs": [
    {
     "name": "stdout",
     "output_type": "stream",
     "text": [
      "Status code: 200\n",
      "Content: [{\"page\":1,\"pages\":2,\"per_page\":\"50\",\"total\":85},[{\"id\":\"ABW\",\"iso2Code\":\"AW\",\"name\":\"Aruba\",\"region\":{\"id\":\"LCN\",\"iso2code\":\"ZJ\",\"value\":\"Latin America & Caribbean \"},\"adminregion\":{\"id\":\"\",\"iso2code\":\"\",\"value\":\"\"},\"incomeLevel\":{\"id\":\"HIC\",\"iso2code\":\"XD\",\"value\":\"High income\"},\"lendingType\":{\"id\":\"LNX\",\"iso2code\":\"XX\",\"value\":\"Not classified\"},\"capitalCity\":\"Oranjestad\",\"longitude\":\"-70.0167\",\"latitude\":\"12.5167\"},{\"id\":\"AND\",\"iso2Code\":\"AD\",\"name\":\"Andorra\",\"region\":{\"id\":\"ECS\",\"iso2code\":\"\n"
     ]
    }
   ],
   "source": [
    "#testing API connectivity\n",
    "import requests\n",
    "\n",
    "url = \"http://api.worldbank.org/v2/country?incomeLevel=HIC&format=json\"\n",
    "response = requests.get(url)\n",
    "\n",
    "print(\"Status code:\", response.status_code)\n",
    "print(\"Content:\", response.text[:500])  # Print part of response\n"
   ]
  },
  {
   "cell_type": "code",
   "execution_count": 9,
   "id": "33e411cb-582e-4d3f-beec-742a5d74e2aa",
   "metadata": {},
   "outputs": [],
   "source": [
    "import wbdata\n",
    "import pandas as pd\n",
    "from datetime import datetime\n",
    "import logging\n",
    "\n",
    "# Configure logging\n",
    "logging.basicConfig(level=logging.INFO)\n",
    "logger = logging.getLogger(__name__)\n",
    "\n",
    "try:\n",
    "    # Retrieve countries with High Income level\n",
    "    countries = wbdata.get_country(incomelevel=\"HIC\")\n",
    "    country_codes = [c['id'] for c in countries]\n",
    "\n",
    "    # Define the indicator\n",
    "    indicator = {'GC.DOD.TOTL.GD.ZS': 'DebtPercentGDP'}\n",
    "\n",
    "    # Set the date range\n",
    "    data_date = (datetime(2000, 1, 1), datetime(2020, 1, 1))\n",
    "\n",
    "    # Fetch the data\n",
    "    df = wbdata.get_dataframe(indicator, country=country_codes, data_date=data_date)\n",
    "    print(df.head())\n",
    "\n",
    "except Exception as e:\n",
    "    logger.error(f\"An error occurred: {e}\")\n"
   ]
  },
  {
   "cell_type": "code",
   "execution_count": 10,
   "id": "54229831-5410-40af-8c1b-fb975d2057ce",
   "metadata": {},
   "outputs": [],
   "source": [
    "import logging\n",
    "\n",
    "# Configure logging\n",
    "logging.basicConfig(\n",
    "    filename='data_extraction.log',\n",
    "    level=logging.INFO,\n",
    "    format='%(asctime)s:%(levelname)s:%(message)s'\n",
    ")\n",
    "\n",
    "logging.info('Data extraction started.')\n",
    "\n",
    "# Your data extraction code here\n",
    "\n",
    "logging.info('Data extraction completed successfully.')\n"
   ]
  },
  {
   "cell_type": "code",
   "execution_count": 11,
   "id": "5e32d7b8-74b0-474f-aa6a-a2c8273e905d",
   "metadata": {},
   "outputs": [],
   "source": [
    "import logging\n",
    "from datetime import datetime\n",
    "\n",
    "# Set up logging\n",
    "logging.basicConfig(\n",
    "    filename=\"extract_log.txt\",\n",
    "    level=logging.INFO,\n",
    "    format=\"%(asctime)s - %(levelname)s - %(message)s\"\n",
    ")\n",
    "\n",
    "logging.info(\"=== Extract Step Started ===\")\n"
   ]
  },
  {
   "cell_type": "code",
   "execution_count": 12,
   "id": "d27abcd4-e4ce-446a-90a6-cf9d144de63f",
   "metadata": {},
   "outputs": [],
   "source": [
    "import wbdata\n",
    "import pandas as pd\n",
    "\n",
    "def extract_debt_data(start_year=2010, end_year=2023):\n",
    "    try:\n",
    "        logging.info(\"Attempting to fetch high income countries...\")\n",
    "        countries = wbdata.get_countries(incomelevel=\"HIC\")  # High income\n",
    "        logging.info(\"Successfully fetched high income countries.\")\n",
    "    except Exception as e:\n",
    "        logging.warning(f\"Failed to get high income countries: {e}\")\n",
    "        logging.info(\"Falling back to all countries (excluding aggregates).\")\n",
    "        countries = wbdata.get_countries()\n",
    "\n",
    "    # Filter country codes (exclude aggregates)\n",
    "    country_codes = [c['id'] for c in countries if c['region']['id'] != 'NA']\n",
    "    logging.info(f\"Fetched {len(country_codes)} valid country codes.\")\n",
    "\n",
    "    # Define indicator: Central government debt (% of GDP)\n",
    "    indicator = {\"GC.DOD.TOTL.GD.ZS\": \"DebtPercentGDP\"}\n",
    "\n",
    "    try:\n",
    "        data = wbdata.get_dataframe(\n",
    "            indicator,\n",
    "            country=country_codes,\n",
    "            data_date=(datetime(start_year, 1, 1), datetime(end_year, 1, 1)),\n",
    "            convert_date=True\n",
    "        )\n",
    "        logging.info(f\"Successfully extracted data for years {start_year}-{end_year}.\")\n",
    "        return data.reset_index()\n",
    "    except Exception as e:\n",
    "        logging.error(f\"Data extraction failed: {e}\")\n",
    "        return pd.DataFrame()\n"
   ]
  },
  {
   "cell_type": "code",
   "execution_count": 13,
   "id": "3d34a4fc-5a30-4965-94ba-f54f49f8bac7",
   "metadata": {},
   "outputs": [
    {
     "name": "stdout",
     "output_type": "stream",
     "text": [
      "❌ Connection failed:\n",
      "('08001', '[08001] [Microsoft][ODBC Driver 17 for SQL Server]TCP Provider: Timeout error [258].  (258) (SQLDriverConnect); [08001] [Microsoft][ODBC Driver 17 for SQL Server]Login timeout expired (0); [08001] [Microsoft][ODBC Driver 17 for SQL Server]Unable to complete login process due to delay in login response (258)')\n"
     ]
    }
   ],
   "source": [
    "import pyodbc\n",
    "\n",
    "conn_str = (\n",
    "    \"DRIVER={ODBC Driver 17 for SQL Server};\"\n",
    "    \"SERVER=elt-world-bank.database.windows.net;\"\n",
    "    \"DATABASE=ELT;\"\n",
    "    \"UID=CloudSA648a5ceb;\"\n",
    "    \"PWD=Urno9@$$;\"\n",
    ")\n",
    "\n",
    "try:\n",
    "    conn = pyodbc.connect(conn_str)\n",
    "    print(\"✅ Connection successful!\")\n",
    "except Exception as e:\n",
    "    print(\"❌ Connection failed:\")\n",
    "    print(e)\n"
   ]
  },
  {
   "cell_type": "code",
   "execution_count": 14,
   "id": "0dad1d00-fe9d-44ce-9bcf-0ba0d165e937",
   "metadata": {},
   "outputs": [],
   "source": [
    "import wbdata\n",
    "import pandas as pd\n",
    "\n",
    "def extract_debt_percent_gdp(start_year=2010, end_year=2023):\n",
    "    try:\n",
    "        logging.info(\"Attempting to fetch high income countries...\")\n",
    "        countries = wbdata.get_countries(incomelevel=\"HIC\")  # High income\n",
    "        logging.info(\"Successfully fetched high income countries.\")\n",
    "    except Exception as e:\n",
    "        logging.warning(f\"Failed to get high income countries: {e}\")\n",
    "        logging.info(\"Falling back to all countries (excluding aggregates).\")\n",
    "        countries = wbdata.get_countries()\n",
    "\n",
    "    # Filter country codes (exclude aggregates)\n",
    "    country_codes = [c['id'] for c in countries if c['region']['id'] != 'NA']\n",
    "    logging.info(f\"Fetched {len(country_codes)} valid country codes.\")\n",
    "\n",
    "    # Define indicator: Central government debt (% of GDP)\n",
    "    indicator = {\"GC.DOD.TOTL.GD.ZS\": \"DebtPercentGDP\"}\n",
    "\n",
    "    try:\n",
    "        data = wbdata.get_dataframe(\n",
    "            indicator,\n",
    "            country=country_codes,\n",
    "            data_date=(datetime(start_year, 1, 1), datetime(end_year, 1, 1)),\n",
    "            convert_date=True\n",
    "        )\n",
    "        logging.info(f\"Successfully extracted data for years {start_year}-{end_year}.\")\n",
    "        return data.reset_index()\n",
    "    except Exception as e:\n",
    "        logging.error(f\"Data extraction failed: {e}\")\n",
    "        return pd.DataFrame()\n"
   ]
  },
  {
   "cell_type": "code",
   "execution_count": 15,
   "id": "e905acd6-377f-43dd-97ec-4d12fcbc057b",
   "metadata": {},
   "outputs": [],
   "source": [
    "# debt_data_extraction.py\n",
    "\n",
    "import wbgapi as wb\n",
    "import pandas as pd\n",
    "import logging\n",
    "from datetime import datetime\n",
    "import os\n",
    "\n",
    "# Setup logging\n",
    "log_dir = \"logs\"\n",
    "os.makedirs(log_dir, exist_ok=True)\n",
    "log_file = os.path.join(log_dir, \"debt_data_extraction.log\")\n",
    "logging.basicConfig(\n",
    "    filename=log_file,\n",
    "    level=logging.INFO,\n",
    "    format=\"%(asctime)s - %(levelname)s - %(message)s\"\n",
    ")\n",
    "\n",
    "def extract_debt_data():\n",
    "    try:\n",
    "        logging.info(\"Starting debt data extraction\")\n",
    "\n",
    "        # Set database (WDI)\n",
    "        wb.db = 2\n",
    "\n",
    "        # Indicator for Central government debt, % of GDP\n",
    "        indicator = 'GC.DOD.TOTL.GD.ZS'\n",
    "\n",
    "        # Get High Income Country members\n",
    "        countries = wb.region.members('HIC')\n",
    "\n",
    "        # Get data (entire time range available)\n",
    "        df = wb.data.DataFrame(indicator, economy=countries, labels=True, time=range(2000, 2024))\n",
    "\n",
    "        # Optional: Clean column names\n",
    "        df.reset_index(inplace=True)\n",
    "        df.rename(columns={\n",
    "            'economy': 'Country Code',\n",
    "            'country': 'Country',\n",
    "            'time': 'Year',\n",
    "            indicator: 'Debt (% of GDP)'\n",
    "        }, inplace=True)\n",
    "\n",
    "        # Save data to CSV\n",
    "        output_dir = \"data\"\n",
    "        os.makedirs(output_dir, exist_ok=True)\n",
    "        filename = f\"debt_data_{datetime.now().strftime('%Y%m%d_%H%M%S')}.csv\"\n",
    "        df.to_csv(os.path.join(output_dir, filename), index=False)\n",
    "\n",
    "        logging.info(f\"Data extraction completed successfully. File saved as {filename}\")\n",
    "\n",
    "    except Exception as e:\n",
    "        logging.error(f\"Error during data extraction: {str(e)}\")\n",
    "\n",
    "# Run\n",
    "extract_debt_data()\n"
   ]
  },
  {
   "cell_type": "code",
   "execution_count": 16,
   "id": "89cb12d5-b612-402a-b9be-4be2fd623f74",
   "metadata": {
    "scrolled": true
   },
   "outputs": [
    {
     "name": "stdout",
     "output_type": "stream",
     "text": [
      "Requirement already satisfied: schedule in c:\\users\\aleen\\anaconda3\\lib\\site-packages (1.2.2)\n"
     ]
    }
   ],
   "source": [
    "!pip install schedule\n"
   ]
  },
  {
   "cell_type": "code",
   "execution_count": null,
   "id": "867005d1-3254-4c4e-8b9f-fe343a63dbad",
   "metadata": {},
   "outputs": [],
   "source": [
    "import schedule\n",
    "import time\n",
    "\n",
    "# Schedule to run once daily\n",
    "schedule.every().day.at(\"09:00\").do(extract_debt_data)\n",
    "\n",
    "while True:\n",
    "    schedule.run_pending()\n",
    "    time.sleep(60)"
   ]
  },
  {
   "cell_type": "code",
   "execution_count": null,
   "id": "a1a7d85d-f7ea-4a9a-86b3-34c1c62dd2bb",
   "metadata": {},
   "outputs": [],
   "source": []
  }
 ],
 "metadata": {
  "kernelspec": {
   "display_name": "Python [conda env:base] *",
   "language": "python",
   "name": "conda-base-py"
  },
  "language_info": {
   "codemirror_mode": {
    "name": "ipython",
    "version": 3
   },
   "file_extension": ".py",
   "mimetype": "text/x-python",
   "name": "python",
   "nbconvert_exporter": "python",
   "pygments_lexer": "ipython3",
   "version": "3.12.7"
  }
 },
 "nbformat": 4,
 "nbformat_minor": 5
}
