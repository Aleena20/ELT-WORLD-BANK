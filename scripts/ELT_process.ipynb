{
 "cells": [
  {
   "cell_type": "code",
   "execution_count": 2,
   "id": "861ce707-c71e-4042-bbcc-81e0aa924373",
   "metadata": {},
   "outputs": [],
   "source": [
    "from sqlalchemy import create_engine\n",
    "\n",
    "server = 'elt-world-bank.database.windows.net'\n",
    "database = 'ELT'\n",
    "username = 'CloudSA648a5ceb'\n",
    "password = 'Urno9@$$'\n",
    "driver = 'ODBC Driver 17 for SQL Server'\n",
    "\n",
    "connection_string = f\"mssql+pyodbc://{username}:{password}@{server}:1433/{database}?driver={driver}\"\n",
    "engine = create_engine(connection_string)"
   ]
  },
  {
   "cell_type": "code",
   "execution_count": 6,
   "id": "bcccb4ef-7424-4607-8040-779c60878d9b",
   "metadata": {
    "scrolled": true
   },
   "outputs": [
    {
     "name": "stdout",
     "output_type": "stream",
     "text": [
      "Contents of the ZIP file:\n",
      "Metadata_Indicator_API_GC.DOD.TOTL.GD.ZS_DS2_en_csv_v2_87867.csv\n",
      "API_GC.DOD.TOTL.GD.ZS_DS2_en_csv_v2_87867.csv\n",
      "Metadata_Country_API_GC.DOD.TOTL.GD.ZS_DS2_en_csv_v2_87867.csv\n",
      "\n",
      " Using file: API_GC.DOD.TOTL.GD.ZS_DS2_en_csv_v2_87867.csv\n",
      "\n",
      " DataFrame loaded with shape: (266, 70)\n",
      "                  Country Name Country Code  \\\n",
      "0                        Aruba          ABW   \n",
      "1  Africa Eastern and Southern          AFE   \n",
      "2                  Afghanistan          AFG   \n",
      "3   Africa Western and Central          AFW   \n",
      "4                       Angola          AGO   \n",
      "\n",
      "                              Indicator Name     Indicator Code  1960  1961  \\\n",
      "0  Central government debt, total (% of GDP)  GC.DOD.TOTL.GD.ZS   NaN   NaN   \n",
      "1  Central government debt, total (% of GDP)  GC.DOD.TOTL.GD.ZS   NaN   NaN   \n",
      "2  Central government debt, total (% of GDP)  GC.DOD.TOTL.GD.ZS   NaN   NaN   \n",
      "3  Central government debt, total (% of GDP)  GC.DOD.TOTL.GD.ZS   NaN   NaN   \n",
      "4  Central government debt, total (% of GDP)  GC.DOD.TOTL.GD.ZS   NaN   NaN   \n",
      "\n",
      "   1962  1963  1964  1965  ...  2016  2017  2018  2019  2020  2021  2022  \\\n",
      "0   NaN   NaN   NaN   NaN  ...   NaN   NaN   NaN   NaN   NaN   NaN   NaN   \n",
      "1   NaN   NaN   NaN   NaN  ...   NaN   NaN   NaN   NaN   NaN   NaN   NaN   \n",
      "2   NaN   NaN   NaN   NaN  ...   NaN   NaN   NaN   NaN   NaN   NaN   NaN   \n",
      "3   NaN   NaN   NaN   NaN  ...   NaN   NaN   NaN   NaN   NaN   NaN   NaN   \n",
      "4   NaN   NaN   NaN   NaN  ...   NaN   NaN   NaN   NaN   NaN   NaN   NaN   \n",
      "\n",
      "   2023  2024  Unnamed: 69  \n",
      "0   NaN   NaN          NaN  \n",
      "1   NaN   NaN          NaN  \n",
      "2   NaN   NaN          NaN  \n",
      "3   NaN   NaN          NaN  \n",
      "4   NaN   NaN          NaN  \n",
      "\n",
      "[5 rows x 70 columns]\n"
     ]
    }
   ],
   "source": [
    "import pandas as pd\n",
    "import zipfile\n",
    "\n",
    "# Step 1: Load the ZIP file\n",
    "# Fix: Use raw string (r prefix) or double backslashes or forward slashes for file paths\n",
    "zip_path = r\"C:\\Users\\aleen\\venv\\API_GC.DOD.TOTL.GD.ZS_DS2_en_csv_v2_87867.zip\"\n",
    "# Alternative solutions:\n",
    "# zip_path = \"C:\\\\Users\\\\aleen\\\\venv\\\\API_GC.DOD.TOTL.GD.ZS_DS2_en_csv_v2_87867.zip\"\n",
    "# zip_path = \"C:/Users/aleen/venv/API_GC.DOD.TOTL.GD.ZS_DS2_en_csv_v2_87867.zip\"\n",
    "\n",
    "with zipfile.ZipFile(zip_path, 'r') as z:\n",
    "    # Print all files in the ZIP\n",
    "    print(\"Contents of the ZIP file:\")\n",
    "    for name in z.namelist():\n",
    "        print(name)\n",
    "    \n",
    "    # Find the actual data file (not metadata)\n",
    "    csv_files = [name for name in z.namelist() if name.endswith('.csv') and \"Metadata\" not in name]\n",
    "    \n",
    "    if not csv_files:\n",
    "        raise ValueError(\" No valid CSV file found in ZIP!\")\n",
    "\n",
    "    # Use the first valid CSV file\n",
    "    csv_name = csv_files[0]\n",
    "    print(f\"\\n Using file: {csv_name}\")\n",
    "\n",
    "    with z.open(csv_name) as f:\n",
    "        df = pd.read_csv(f, skiprows=4)\n",
    "\n",
    "# Confirm the DataFrame was loaded\n",
    "print(\"\\n DataFrame loaded with shape:\", df.shape)\n",
    "print(df.head())"
   ]
  },
  {
   "cell_type": "code",
   "execution_count": 8,
   "id": "56b37b1c-0ad9-4569-82cf-51216317b714",
   "metadata": {},
   "outputs": [
    {
     "name": "stdout",
     "output_type": "stream",
     "text": [
      "Using file: API_GC.DOD.TOTL.GD.ZS_DS2_en_csv_v2_87867.csv\n",
      "✅ DataFrame created successfully:\n",
      "       Country Name Country Code                             Indicator Name  \\\n",
      "2730          Spain          ESP  Central government debt, total (% of GDP)   \n",
      "2996          Spain          ESP  Central government debt, total (% of GDP)   \n",
      "7884  North America          NAC  Central government debt, total (% of GDP)   \n",
      "7965  United States          USA  Central government debt, total (% of GDP)   \n",
      "7993      Australia          AUS  Central government debt, total (% of GDP)   \n",
      "\n",
      "         Indicator Code  Year  DebtPercentGDP  \n",
      "2730  GC.DOD.TOTL.GD.ZS  1970     2003.941756  \n",
      "2996  GC.DOD.TOTL.GD.ZS  1971     1768.648933  \n",
      "7884  GC.DOD.TOTL.GD.ZS  1989       39.128400  \n",
      "7965  GC.DOD.TOTL.GD.ZS  1989       39.128400  \n",
      "7993  GC.DOD.TOTL.GD.ZS  1990       12.227485  \n"
     ]
    }
   ],
   "source": [
    "import pandas as pd\n",
    "import zipfile\n",
    "\n",
    "# Step 1: Load the ZIP file and extract the CSV\n",
    "zip_path = \"C:\\\\Users\\\\aleen\\\\venv\\\\API_GC.DOD.TOTL.GD.ZS_DS2_en_csv_v2_87867.zip\"\n",
    "\n",
    "with zipfile.ZipFile(zip_path, 'r') as z:\n",
    "    for name in z.namelist():\n",
    "        if name.endswith('.csv') and \"Metadata\" not in name:\n",
    "            print(f\"Using file: {name}\")\n",
    "            with z.open(name) as f:\n",
    "                df = pd.read_csv(f, skiprows=4)\n",
    "\n",
    "# Step 2: Drop unnamed or empty columns\n",
    "df = df.drop(columns=[col for col in df.columns if \"Unnamed\" in col])\n",
    "\n",
    "# Step 3: Melt into long format\n",
    "df_long = df.melt(\n",
    "    id_vars=[\"Country Name\", \"Country Code\", \"Indicator Name\", \"Indicator Code\"],\n",
    "    var_name=\"Year\",\n",
    "    value_name=\"DebtPercentGDP\"\n",
    ")\n",
    "\n",
    "# Step 4: Drop missing values\n",
    "df_long = df_long.dropna(subset=[\"DebtPercentGDP\"])\n",
    "\n",
    "# Step 5: Preview the result\n",
    "print(\"✅ DataFrame created successfully:\")\n",
    "print(df_long.head())\n"
   ]
  },
  {
   "cell_type": "code",
   "execution_count": 9,
   "id": "48b452c8-156b-4c20-b3f6-f4e825d542dc",
   "metadata": {},
   "outputs": [
    {
     "name": "stdout",
     "output_type": "stream",
     "text": [
      "Contents of the ZIP file:\n",
      "Metadata_Indicator_API_GC.DOD.TOTL.GD.ZS_DS2_en_csv_v2_87867.csv\n",
      "API_GC.DOD.TOTL.GD.ZS_DS2_en_csv_v2_87867.csv\n",
      "Metadata_Country_API_GC.DOD.TOTL.GD.ZS_DS2_en_csv_v2_87867.csv\n",
      "\n",
      "✅ Using file: API_GC.DOD.TOTL.GD.ZS_DS2_en_csv_v2_87867.csv\n",
      "\n",
      "✅ DataFrame loaded with shape: (266, 70)\n",
      "                  Country Name Country Code  \\\n",
      "0                        Aruba          ABW   \n",
      "1  Africa Eastern and Southern          AFE   \n",
      "2                  Afghanistan          AFG   \n",
      "3   Africa Western and Central          AFW   \n",
      "4                       Angola          AGO   \n",
      "\n",
      "                              Indicator Name     Indicator Code  1960  1961  \\\n",
      "0  Central government debt, total (% of GDP)  GC.DOD.TOTL.GD.ZS   NaN   NaN   \n",
      "1  Central government debt, total (% of GDP)  GC.DOD.TOTL.GD.ZS   NaN   NaN   \n",
      "2  Central government debt, total (% of GDP)  GC.DOD.TOTL.GD.ZS   NaN   NaN   \n",
      "3  Central government debt, total (% of GDP)  GC.DOD.TOTL.GD.ZS   NaN   NaN   \n",
      "4  Central government debt, total (% of GDP)  GC.DOD.TOTL.GD.ZS   NaN   NaN   \n",
      "\n",
      "   1962  1963  1964  1965  ...  2016  2017  2018  2019  2020  2021  2022  \\\n",
      "0   NaN   NaN   NaN   NaN  ...   NaN   NaN   NaN   NaN   NaN   NaN   NaN   \n",
      "1   NaN   NaN   NaN   NaN  ...   NaN   NaN   NaN   NaN   NaN   NaN   NaN   \n",
      "2   NaN   NaN   NaN   NaN  ...   NaN   NaN   NaN   NaN   NaN   NaN   NaN   \n",
      "3   NaN   NaN   NaN   NaN  ...   NaN   NaN   NaN   NaN   NaN   NaN   NaN   \n",
      "4   NaN   NaN   NaN   NaN  ...   NaN   NaN   NaN   NaN   NaN   NaN   NaN   \n",
      "\n",
      "   2023  2024  Unnamed: 69  \n",
      "0   NaN   NaN          NaN  \n",
      "1   NaN   NaN          NaN  \n",
      "2   NaN   NaN          NaN  \n",
      "3   NaN   NaN          NaN  \n",
      "4   NaN   NaN          NaN  \n",
      "\n",
      "[5 rows x 70 columns]\n"
     ]
    }
   ],
   "source": [
    "import pandas as pd\n",
    "import zipfile\n",
    "\n",
    "# Step 1: Load the ZIP file\n",
    "zip_path = \"C:\\\\Users\\\\aleen\\\\venv\\\\API_GC.DOD.TOTL.GD.ZS_DS2_en_csv_v2_87867.zip\"\n",
    "\n",
    "with zipfile.ZipFile(zip_path, 'r') as z:\n",
    "    # Print all files in the ZIP\n",
    "    print(\"Contents of the ZIP file:\")\n",
    "    for name in z.namelist():\n",
    "        print(name)\n",
    "    \n",
    "    # Find the actual data file (not metadata)\n",
    "    csv_files = [name for name in z.namelist() if name.endswith('.csv') and \"Metadata\" not in name]\n",
    "    \n",
    "    if not csv_files:\n",
    "        raise ValueError(\"❌ No valid CSV file found in ZIP!\")\n",
    "\n",
    "    # Use the first valid CSV file\n",
    "    csv_name = csv_files[0]\n",
    "    print(f\"\\n✅ Using file: {csv_name}\")\n",
    "\n",
    "    with z.open(csv_name) as f:\n",
    "        df = pd.read_csv(f, skiprows=4)\n",
    "\n",
    "# Confirm the DataFrame was loaded\n",
    "print(\"\\n✅ DataFrame loaded with shape:\", df.shape)\n",
    "print(df.head())\n"
   ]
  },
  {
   "cell_type": "code",
   "execution_count": 10,
   "id": "f5e77c3c-5474-4260-801a-c70bc1208480",
   "metadata": {},
   "outputs": [],
   "source": [
    "from sqlalchemy import create_engine\n",
    "\n",
    "# Replace these values with your actual Azure SQL info\n",
    "server = 'elt-world-bank.database.windows.net'\n",
    "database = 'ELT'\n",
    "username = 'CloudSA648a5ceb'\n",
    "password = 'Urno9@$$'\n",
    "driver = 'ODBC Driver 17 for SQL Server'\n",
    "\n",
    "# Create connection string\n",
    "connection_string = f\"mssql+pyodbc://{username}:{password}@{server}:1433/{database}?driver={driver}\"\n",
    "engine = create_engine(connection_string)\n",
    "\n"
   ]
  },
  {
   "cell_type": "code",
   "execution_count": 16,
   "id": "f7992b00-c5ed-4d4f-a0ba-1135443cf5d9",
   "metadata": {},
   "outputs": [],
   "source": [
    "import pyodbc\n",
    "\n",
    "conn_str = (\n",
    "    \"DRIVER={ODBC Driver 17 for SQL Server};\"\n",
    "    \"SERVER=tcp:elt-world-bank.database.windows.net,1433;\"\n",
    "    \"DATABASE=ELT;\"\n",
    "    \"UID=CloudSA648a5ceb@elt-world-bank;\"\n",
    "    \"PWD=Urno9@$$;\"\n",
    "    \"Encrypt=yes;\"\n",
    "    \"TrustServerCertificate=no;\"\n",
    "    \"Connection Timeout=60;\"\n",
    ")\n",
    "\n",
    "conn = pyodbc.connect(conn_str)"
   ]
  },
  {
   "cell_type": "code",
   "execution_count": 17,
   "id": "8a99a83a-6816-4712-9743-1342b12358b3",
   "metadata": {},
   "outputs": [
    {
     "name": "stdout",
     "output_type": "stream",
     "text": [
      "Connection successful.\n"
     ]
    }
   ],
   "source": [
    "import pyodbc\n",
    "\n",
    "conn_str = (\n",
    "    \"DRIVER={ODBC Driver 17 for SQL Server};\"\n",
    "    \"SERVER=tcp:elt-world-bank.database.windows.net,1433;\"\n",
    "    \"DATABASE=ELT;\"\n",
    "    \"UID=CloudSA648a5ceb@elt-world-bank;\"\n",
    "    \"PWD=Urno9@$$;\"\n",
    "    \"Encrypt=yes;\"\n",
    "    \"TrustServerCertificate=no;\"\n",
    "    \"Connection Timeout=60;\"\n",
    ")\n",
    "\n",
    "conn = pyodbc.connect(conn_str)\n",
    "print(\"Connection successful.\")\n"
   ]
  },
  {
   "cell_type": "code",
   "execution_count": 18,
   "id": "7531c74e-98a7-4ec0-8aa9-59277b45ad60",
   "metadata": {},
   "outputs": [
    {
     "name": "stdout",
     "output_type": "stream",
     "text": [
      "Data uploaded to Azure SQL!\n"
     ]
    }
   ],
   "source": [
    "df.to_sql('ibrd_loans', con=engine, if_exists='replace', index=False)\n",
    "print(\"Data uploaded to Azure SQL!\")\n"
   ]
  },
  {
   "cell_type": "code",
   "execution_count": 21,
   "id": "2bd80895-cbfd-48ec-bb5b-f5776bb53ace",
   "metadata": {},
   "outputs": [
    {
     "data": {
      "text/html": [
       "<div>\n",
       "<style scoped>\n",
       "    .dataframe tbody tr th:only-of-type {\n",
       "        vertical-align: middle;\n",
       "    }\n",
       "\n",
       "    .dataframe tbody tr th {\n",
       "        vertical-align: top;\n",
       "    }\n",
       "\n",
       "    .dataframe thead th {\n",
       "        text-align: right;\n",
       "    }\n",
       "</style>\n",
       "<table border=\"1\" class=\"dataframe\">\n",
       "  <thead>\n",
       "    <tr style=\"text-align: right;\">\n",
       "      <th></th>\n",
       "      <th>name</th>\n",
       "    </tr>\n",
       "  </thead>\n",
       "  <tbody>\n",
       "    <tr>\n",
       "      <th>0</th>\n",
       "      <td>ibrd_loans</td>\n",
       "    </tr>\n",
       "  </tbody>\n",
       "</table>\n",
       "</div>"
      ],
      "text/plain": [
       "         name\n",
       "0  ibrd_loans"
      ]
     },
     "execution_count": 21,
     "metadata": {},
     "output_type": "execute_result"
    }
   ],
   "source": [
    "pd.read_sql(\"SELECT name FROM sys.tables\", con=engine)\n"
   ]
  },
  {
   "cell_type": "code",
   "execution_count": 22,
   "id": "9ee141e1-5047-4c0f-8468-431feedd97e2",
   "metadata": {},
   "outputs": [
    {
     "name": "stdout",
     "output_type": "stream",
     "text": [
      "✅ Re-uploaded as 'debt_percent_gdp'\n"
     ]
    }
   ],
   "source": [
    "df_long.to_sql('debt_percent_gdp', con=engine, if_exists='replace', index=False)\n",
    "print(\"✅ Re-uploaded as 'debt_percent_gdp'\")\n"
   ]
  },
  {
   "cell_type": "code",
   "execution_count": 23,
   "id": "829df138-b259-476a-93cb-5bfb4010ca2c",
   "metadata": {},
   "outputs": [
    {
     "name": "stdout",
     "output_type": "stream",
     "text": [
      "    Country Name Country Code                             Indicator Name  \\\n",
      "0          Spain          ESP  Central government debt, total (% of GDP)   \n",
      "1          Spain          ESP  Central government debt, total (% of GDP)   \n",
      "2  North America          NAC  Central government debt, total (% of GDP)   \n",
      "3  United States          USA  Central government debt, total (% of GDP)   \n",
      "4      Australia          AUS  Central government debt, total (% of GDP)   \n",
      "\n",
      "      Indicator Code  Year  DebtPercentGDP  \n",
      "0  GC.DOD.TOTL.GD.ZS  1970     2003.941756  \n",
      "1  GC.DOD.TOTL.GD.ZS  1971     1768.648933  \n",
      "2  GC.DOD.TOTL.GD.ZS  1989       39.128400  \n",
      "3  GC.DOD.TOTL.GD.ZS  1989       39.128400  \n",
      "4  GC.DOD.TOTL.GD.ZS  1990       12.227485  \n"
     ]
    }
   ],
   "source": [
    "import pandas as pd\n",
    "import sqlalchemy\n",
    "\n",
    "# Assuming engine is already defined elsewhere in your code\n",
    "# If not, you would need to create it first:\n",
    "# engine = sqlalchemy.create_engine('your_connection_string')\n",
    "\n",
    "# Roll back any pending transactions\n",
    "if hasattr(engine, 'dispose'):\n",
    "    engine.dispose()  # This closes all connections and rolls back transactions\n",
    "\n",
    "# Alternative approach if dispose() doesn't work\n",
    "try:\n",
    "    with engine.connect() as connection:\n",
    "        connection.execute(sqlalchemy.text(\"ROLLBACK\"))\n",
    "except:\n",
    "    pass  # If this fails, we'll try the query anyway\n",
    "\n",
    "# Now try your query\n",
    "query = \"SELECT TOP 5 * FROM debt_percent_gdp\"\n",
    "test_df = pd.read_sql(query, con=engine)\n",
    "print(test_df)"
   ]
  },
  {
   "cell_type": "code",
   "execution_count": 24,
   "id": "2dbbda6e-09cb-4edb-b20c-a3eb63624649",
   "metadata": {},
   "outputs": [
    {
     "name": "stdout",
     "output_type": "stream",
     "text": [
      "    Country Name Country Code                             Indicator Name  \\\n",
      "0          Spain          ESP  Central government debt, total (% of GDP)   \n",
      "1          Spain          ESP  Central government debt, total (% of GDP)   \n",
      "2  North America          NAC  Central government debt, total (% of GDP)   \n",
      "3  United States          USA  Central government debt, total (% of GDP)   \n",
      "4      Australia          AUS  Central government debt, total (% of GDP)   \n",
      "\n",
      "      Indicator Code  Year  DebtPercentGDP  \n",
      "0  GC.DOD.TOTL.GD.ZS  1970     2003.941756  \n",
      "1  GC.DOD.TOTL.GD.ZS  1971     1768.648933  \n",
      "2  GC.DOD.TOTL.GD.ZS  1989       39.128400  \n",
      "3  GC.DOD.TOTL.GD.ZS  1989       39.128400  \n",
      "4  GC.DOD.TOTL.GD.ZS  1990       12.227485  \n"
     ]
    }
   ],
   "source": [
    "query = \"SELECT TOP 5 * FROM debt_percent_gdp\"\n",
    "test_df = pd.read_sql(query, con=engine)\n",
    "print(test_df)\n"
   ]
  },
  {
   "cell_type": "code",
   "execution_count": 27,
   "id": "8025f24e-8d1d-43c8-9696-f95674b9a930",
   "metadata": {},
   "outputs": [
    {
     "name": "stdout",
     "output_type": "stream",
     "text": [
      "✅ Query successful!\n"
     ]
    },
    {
     "data": {
      "text/html": [
       "<div>\n",
       "<style scoped>\n",
       "    .dataframe tbody tr th:only-of-type {\n",
       "        vertical-align: middle;\n",
       "    }\n",
       "\n",
       "    .dataframe tbody tr th {\n",
       "        vertical-align: top;\n",
       "    }\n",
       "\n",
       "    .dataframe thead th {\n",
       "        text-align: right;\n",
       "    }\n",
       "</style>\n",
       "<table border=\"1\" class=\"dataframe\">\n",
       "  <thead>\n",
       "    <tr style=\"text-align: right;\">\n",
       "      <th></th>\n",
       "      <th>Country Name</th>\n",
       "      <th>Year</th>\n",
       "      <th>DebtPercentGDP</th>\n",
       "    </tr>\n",
       "  </thead>\n",
       "  <tbody>\n",
       "    <tr>\n",
       "      <th>0</th>\n",
       "      <td>Greece</td>\n",
       "      <td>2020</td>\n",
       "      <td>249.366027</td>\n",
       "    </tr>\n",
       "    <tr>\n",
       "      <th>1</th>\n",
       "      <td>Greece</td>\n",
       "      <td>2021</td>\n",
       "      <td>233.448695</td>\n",
       "    </tr>\n",
       "    <tr>\n",
       "      <th>2</th>\n",
       "      <td>Japan</td>\n",
       "      <td>2021</td>\n",
       "      <td>216.329365</td>\n",
       "    </tr>\n",
       "    <tr>\n",
       "      <th>3</th>\n",
       "      <td>Japan</td>\n",
       "      <td>2022</td>\n",
       "      <td>216.213375</td>\n",
       "    </tr>\n",
       "    <tr>\n",
       "      <th>4</th>\n",
       "      <td>Japan</td>\n",
       "      <td>2020</td>\n",
       "      <td>215.755541</td>\n",
       "    </tr>\n",
       "  </tbody>\n",
       "</table>\n",
       "</div>"
      ],
      "text/plain": [
       "  Country Name  Year  DebtPercentGDP\n",
       "0       Greece  2020      249.366027\n",
       "1       Greece  2021      233.448695\n",
       "2        Japan  2021      216.329365\n",
       "3        Japan  2022      216.213375\n",
       "4        Japan  2020      215.755541"
      ]
     },
     "execution_count": 27,
     "metadata": {},
     "output_type": "execute_result"
    }
   ],
   "source": [
    "import pandas as pd\n",
    "from sqlalchemy import text\n",
    "\n",
    "# Your SQL query as a string\n",
    "query = \"\"\"\n",
    "SELECT [Country Name], [Year], [DebtPercentGDP]\n",
    "FROM debt_percent_gdp\n",
    "WHERE [Year] >= '2010'\n",
    "ORDER BY [DebtPercentGDP] DESC\n",
    "\"\"\"\n",
    "\n",
    "# Run the query using your SQLAlchemy engine\n",
    "df = pd.read_sql(text(query), con=engine)\n",
    "\n",
    "# Preview the result\n",
    "print(\"✅ Query successful!\")\n",
    "df.head()\n"
   ]
  },
  {
   "cell_type": "code",
   "execution_count": 28,
   "id": "843a8509-834a-4fec-ab3a-ba05800ea851",
   "metadata": {},
   "outputs": [
    {
     "data": {
      "text/html": [
       "<div>\n",
       "<style scoped>\n",
       "    .dataframe tbody tr th:only-of-type {\n",
       "        vertical-align: middle;\n",
       "    }\n",
       "\n",
       "    .dataframe tbody tr th {\n",
       "        vertical-align: top;\n",
       "    }\n",
       "\n",
       "    .dataframe thead th {\n",
       "        text-align: right;\n",
       "    }\n",
       "</style>\n",
       "<table border=\"1\" class=\"dataframe\">\n",
       "  <thead>\n",
       "    <tr style=\"text-align: right;\">\n",
       "      <th></th>\n",
       "      <th>Country Name</th>\n",
       "      <th>AvgDebt</th>\n",
       "    </tr>\n",
       "  </thead>\n",
       "  <tbody>\n",
       "    <tr>\n",
       "      <th>0</th>\n",
       "      <td>Sudan</td>\n",
       "      <td>826.411206</td>\n",
       "    </tr>\n",
       "    <tr>\n",
       "      <th>1</th>\n",
       "      <td>Seychelles</td>\n",
       "      <td>174.684387</td>\n",
       "    </tr>\n",
       "    <tr>\n",
       "      <th>2</th>\n",
       "      <td>Cote d'Ivoire</td>\n",
       "      <td>171.065443</td>\n",
       "    </tr>\n",
       "    <tr>\n",
       "      <th>3</th>\n",
       "      <td>Spain</td>\n",
       "      <td>170.255786</td>\n",
       "    </tr>\n",
       "    <tr>\n",
       "      <th>4</th>\n",
       "      <td>Congo, Dem. Rep.</td>\n",
       "      <td>161.933820</td>\n",
       "    </tr>\n",
       "  </tbody>\n",
       "</table>\n",
       "</div>"
      ],
      "text/plain": [
       "       Country Name     AvgDebt\n",
       "0             Sudan  826.411206\n",
       "1        Seychelles  174.684387\n",
       "2     Cote d'Ivoire  171.065443\n",
       "3             Spain  170.255786\n",
       "4  Congo, Dem. Rep.  161.933820"
      ]
     },
     "execution_count": 28,
     "metadata": {},
     "output_type": "execute_result"
    }
   ],
   "source": [
    "from sqlalchemy import text\n",
    "\n",
    "query_avg_debt = \"\"\"\n",
    "SELECT [Country Name], AVG([DebtPercentGDP]) AS AvgDebt\n",
    "FROM debt_percent_gdp\n",
    "GROUP BY [Country Name]\n",
    "ORDER BY AvgDebt DESC\n",
    "\"\"\"\n",
    "\n",
    "avg_debt_df = pd.read_sql(text(query_avg_debt), con=engine)\n",
    "avg_debt_df.head()\n"
   ]
  },
  {
   "cell_type": "code",
   "execution_count": 29,
   "id": "0d844d75-9f08-44a4-90bd-992b7a50dceb",
   "metadata": {},
   "outputs": [
    {
     "data": {
      "text/html": [
       "<div>\n",
       "<style scoped>\n",
       "    .dataframe tbody tr th:only-of-type {\n",
       "        vertical-align: middle;\n",
       "    }\n",
       "\n",
       "    .dataframe tbody tr th {\n",
       "        vertical-align: top;\n",
       "    }\n",
       "\n",
       "    .dataframe thead th {\n",
       "        text-align: right;\n",
       "    }\n",
       "</style>\n",
       "<table border=\"1\" class=\"dataframe\">\n",
       "  <thead>\n",
       "    <tr style=\"text-align: right;\">\n",
       "      <th></th>\n",
       "      <th>Year</th>\n",
       "      <th>DebtPercentGDP</th>\n",
       "    </tr>\n",
       "  </thead>\n",
       "  <tbody>\n",
       "    <tr>\n",
       "      <th>0</th>\n",
       "      <td>1990</td>\n",
       "      <td>20.854185</td>\n",
       "    </tr>\n",
       "  </tbody>\n",
       "</table>\n",
       "</div>"
      ],
      "text/plain": [
       "   Year  DebtPercentGDP\n",
       "0  1990       20.854185"
      ]
     },
     "execution_count": 29,
     "metadata": {},
     "output_type": "execute_result"
    }
   ],
   "source": [
    "query_germany_trend = \"\"\"\n",
    "SELECT [Year], [DebtPercentGDP]\n",
    "FROM debt_percent_gdp\n",
    "WHERE [Country Name] = 'Germany'\n",
    "ORDER BY [Year]\n",
    "\"\"\"\n",
    "\n",
    "germany_debt_df = pd.read_sql(text(query_germany_trend), con=engine)\n",
    "germany_debt_df.head()\n"
   ]
  },
  {
   "cell_type": "code",
   "execution_count": null,
   "id": "9123e8a0-819d-40dd-a511-f52ff555256c",
   "metadata": {},
   "outputs": [],
   "source": []
  }
 ],
 "metadata": {
  "kernelspec": {
   "display_name": "Python [conda env:base] *",
   "language": "python",
   "name": "conda-base-py"
  },
  "language_info": {
   "codemirror_mode": {
    "name": "ipython",
    "version": 3
   },
   "file_extension": ".py",
   "mimetype": "text/x-python",
   "name": "python",
   "nbconvert_exporter": "python",
   "pygments_lexer": "ipython3",
   "version": "3.12.7"
  }
 },
 "nbformat": 4,
 "nbformat_minor": 5
}
